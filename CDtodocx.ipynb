{
 "cells": [
  {
   "cell_type": "code",
   "execution_count": 24,
   "metadata": {},
   "outputs": [],
   "source": [
    "import markdown\n",
    "from docx import Document"
   ]
  },
  {
   "cell_type": "code",
   "execution_count": 26,
   "metadata": {},
   "outputs": [],
   "source": [
    "import xml.etree.ElementTree as ET\n",
    "from collections import defaultdict\n",
    "\n",
    "def analyze_xml_structure(xml_file):\n",
    "    tree = ET.parse(xml_file)\n",
    "    root = tree.getroot()\n",
    "    tag_counts = defaultdict(int)\n",
    "    tag_hierarchy = defaultdict(set)\n",
    "\n",
    "    def traverse(element, parent=None):\n",
    "        tag_counts[element.tag] += 1\n",
    "        if parent:\n",
    "            tag_hierarchy[parent].add(element.tag)\n",
    "        for child in element:\n",
    "            traverse(child, element.tag)\n",
    "\n",
    "    traverse(root)\n",
    "\n",
    "    return tag_counts, tag_hierarchy, root"
   ]
  },
  {
   "cell_type": "code",
   "execution_count": 27,
   "metadata": {},
   "outputs": [],
   "source": [
    "def parse_element(element, tag_counts, tag_hierarchy, level=0):\n",
    "    markdown = \"\"\n",
    "    \n",
    "    if element.tag in [\"article\", \"front\", \"body\", \"back\"]:\n",
    "        for child in element:\n",
    "            markdown += parse_element(child, tag_counts, tag_hierarchy, level)\n",
    "    \n",
    "    elif element.tag in [\"sec\", \"abstract\"]:\n",
    "        title = element.find(\"title\")\n",
    "        if title is not None:\n",
    "            markdown += f\"{'#' * (level + 1)} {title.text}\\n\\n\"\n",
    "        for child in element:\n",
    "            if child.tag != \"title\":\n",
    "                markdown += parse_element(child, tag_counts, tag_hierarchy, level + 1)\n",
    "    \n",
    "    elif element.tag == \"p\":\n",
    "        markdown += f\"{element.text}\\n\\n\" if element.text else \"\\n\"\n",
    "    \n",
    "    elif element.tag == \"list\":\n",
    "        for list_item in element.findall(\"list-item\"):\n",
    "            item_text = list_item.find('p').text if list_item.find('p') is not None else \"\"\n",
    "            markdown += f\"- {item_text}\\n\"\n",
    "        markdown += \"\\n\"\n",
    "    \n",
    "    elif element.tag == \"table-wrap\":\n",
    "        markdown += \"| | |\\n|---|---|\\n\"\n",
    "        for row in element.findall(\".//tr\"):\n",
    "            cells = [cell.text if cell.text else \"\" for cell in row.findall(\"td\") + row.findall(\"th\")]\n",
    "            markdown += f\"| {' | '.join(cells)} |\\n\"\n",
    "        markdown += \"\\n\"\n",
    "    \n",
    "    elif element.tag == \"fig\":\n",
    "        caption = element.find(\".//caption\")\n",
    "        if caption is not None:\n",
    "            markdown += f\"*{caption.text}*\\n\\n\"\n",
    "    \n",
    "    # tag_countsとtag_hierarchyを使用して、特定のタグに対する処理を追加できます\n",
    "    # 例：\n",
    "    # if element.tag in tag_hierarchy['specific_parent']:\n",
    "    #     # 特別な処理\n",
    "    \n",
    "    return markdown\n",
    "\n",
    "def convert_xml_to_markdown(xml_file):\n",
    "    tag_counts, tag_hierarchy, root = analyze_xml_structure(xml_file)\n",
    "    return parse_element(root, tag_counts, tag_hierarchy)\n",
    "    \n",
    " \n",
    "\n",
    "def markdown_to_word(markdown_content, output_word_file):\n",
    "    \"\"\"Convert Markdown content to a Word document.\"\"\"\n",
    "    doc = Document()\n",
    "    \n",
    "    # Split the markdown content by lines and parse accordingly\n",
    "    for line in markdown_content.split(\"\\n\"):\n",
    "        if line.startswith(\"### \"):\n",
    "            doc.add_heading(line[4:], level=3)\n",
    "        elif line.startswith(\"#### \"):\n",
    "            doc.add_heading(line[5:], level=4)\n",
    "        elif line.startswith(\"- \"):\n",
    "            doc.add_paragraph(line[2:], style='List Bullet')\n",
    "        elif line.startswith(\"**\"):\n",
    "            doc.add_paragraph(line.strip(\"**\"), style='Heading 2')\n",
    "        elif line.startswith(\"*\"):\n",
    "            doc.add_paragraph(line.strip(\"*\"), style='Heading 3')\n",
    "        else:\n",
    "            doc.add_paragraph(line)\n",
    "\n",
    "    # Save the document\n",
    "    doc.save(output_word_file)\n",
    "\n",
    "\n"
   ]
  },
  {
   "cell_type": "code",
   "execution_count": 28,
   "metadata": {},
   "outputs": [],
   "source": [
    "# Example usage:\n",
    "xml_file = r'C:YOUR-output-XML-PATH'\n"
   ]
  },
  {
   "cell_type": "code",
   "execution_count": 30,
   "metadata": {},
   "outputs": [
    {
     "name": "stdout",
     "output_type": "stream",
     "text": [
      "# Background\n",
      "\n",
      "## Description of the condition\n",
      "\n",
      "The coronavirus (COVID-19) epidemic (i.e. an unexpected increase in the number of disease cases in a specific geographical area) was first reported in China in December 2019 [\n",
      "\n",
      "An epidemic of an emerging infectious disease may have a widespread negative impact on mental health. The Severe Acute Respiratory Syndrome (SARS) epidemic caused symptoms of post-traumatic stress disorder (PTSD) and depression in the general population [\n",
      "\n",
      "## Description of t\n",
      "Markdown converted to Word file: output.docx\n"
     ]
    }
   ],
   "source": [
    "# XMLの構造を分析\n",
    "tag_counts, tag_hierarchy, root = analyze_xml_structure(xml_file)\n",
    "\n",
    "\n",
    "# Markdownに変換\n",
    "markdown_output = parse_element(root, tag_counts, tag_hierarchy)\n",
    "print(markdown_output[:500])  # 最初の500文字を表示\n",
    "\n",
    "# Wordファイルに変換\n",
    "output_word_file = 'output.docx'\n",
    "markdown_to_word(markdown_output, output_word_file)\n",
    "print(f\"Markdown converted to Word file: {output_word_file}\")"
   ]
  }
 ],
 "metadata": {
  "kernelspec": {
   "display_name": "Python 3",
   "language": "python",
   "name": "python3"
  },
  "language_info": {
   "codemirror_mode": {
    "name": "ipython",
    "version": 3
   },
   "file_extension": ".py",
   "mimetype": "text/x-python",
   "name": "python",
   "nbconvert_exporter": "python",
   "pygments_lexer": "ipython3",
   "version": "3.9.12"
  }
 },
 "nbformat": 4,
 "nbformat_minor": 2
}
